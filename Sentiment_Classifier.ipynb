{
  "nbformat": 4,
  "nbformat_minor": 0,
  "metadata": {
    "colab": {
      "name": "Sentiment_Classifier.ipynb",
      "provenance": [],
      "collapsed_sections": []
    },
    "kernelspec": {
      "name": "python3",
      "display_name": "Python 3"
    },
    "accelerator": "GPU"
  },
  "cells": [
    {
      "cell_type": "code",
      "metadata": {
        "id": "_a8SccbLaJPJ",
        "outputId": "a37bfb9f-63ac-4bf0-8519-eebb1d550c91",
        "colab": {
          "base_uri": "https://localhost:8080/",
          "height": 35
        }
      },
      "source": [
        "from google.colab import drive\n",
        "drive.mount('/content/drive')"
      ],
      "execution_count": null,
      "outputs": [
        {
          "output_type": "stream",
          "text": [
            "Mounted at /content/drive\n"
          ],
          "name": "stdout"
        }
      ]
    },
    {
      "cell_type": "code",
      "metadata": {
        "id": "ef6inASSavn4",
        "outputId": "9a477ea5-50f4-4eaa-b31d-f8daf834fbc2",
        "colab": {
          "base_uri": "https://localhost:8080/",
          "height": 35
        }
      },
      "source": [
        "cd drive/"
      ],
      "execution_count": null,
      "outputs": [
        {
          "output_type": "stream",
          "text": [
            "/content/drive\n"
          ],
          "name": "stdout"
        }
      ]
    },
    {
      "cell_type": "code",
      "metadata": {
        "id": "7roI7RJga67T",
        "outputId": "3f0e30ad-a94c-41b5-877b-d28edfc7a709",
        "colab": {
          "base_uri": "https://localhost:8080/",
          "height": 35
        }
      },
      "source": [
        "cd 'My Drive'"
      ],
      "execution_count": null,
      "outputs": [
        {
          "output_type": "stream",
          "text": [
            "/content/drive/My Drive\n"
          ],
          "name": "stdout"
        }
      ]
    },
    {
      "cell_type": "code",
      "metadata": {
        "id": "DZ2XU-ltfkR1",
        "outputId": "70c36932-b02f-4282-f99c-cb64a82032c2",
        "colab": {
          "base_uri": "https://localhost:8080/",
          "height": 70
        }
      },
      "source": [
        "import nltk\n",
        "nltk.download('stopwords')"
      ],
      "execution_count": null,
      "outputs": [
        {
          "output_type": "stream",
          "text": [
            "[nltk_data] Downloading package stopwords to /root/nltk_data...\n",
            "[nltk_data]   Unzipping corpora/stopwords.zip.\n"
          ],
          "name": "stdout"
        },
        {
          "output_type": "execute_result",
          "data": {
            "text/plain": [
              "True"
            ]
          },
          "metadata": {
            "tags": []
          },
          "execution_count": 6
        }
      ]
    },
    {
      "cell_type": "code",
      "metadata": {
        "id": "LPA3N4Av42i3"
      },
      "source": [
        "import pandas as pd\n",
        "import numpy as np\n",
        "from nltk.corpus import stopwords\n",
        "from sklearn import preprocessing\n",
        "import tensorflow as tf\n",
        "from sklearn.model_selection import train_test_split\n",
        "from tensorflow.keras.preprocessing.text import Tokenizer\n",
        "from tensorflow.keras.preprocessing.sequence import pad_sequences\n",
        "from tensorflow.keras.models import Sequential, load_model\n",
        "from tensorflow.keras.layers import Dense, Embedding, LSTM\n",
        "from tensorflow.keras.callbacks import ModelCheckpoint\n",
        "import re"
      ],
      "execution_count": null,
      "outputs": []
    },
    {
      "cell_type": "code",
      "metadata": {
        "id": "q9qMwXskk-9Y"
      },
      "source": [
        "test_size = 0.2\n",
        "vocab_size = 1000\n",
        "trunc_type = 'post'\n",
        "pad_type = 'post'\n",
        "embedd_dim = 32\n",
        "lstm_out = 64\n",
        "epochs = 5\n",
        "batch_size = 128"
      ],
      "execution_count": null,
      "outputs": []
    },
    {
      "cell_type": "code",
      "metadata": {
        "id": "hwxjRMdX6P79"
      },
      "source": [
        "def load_dataset(filename):\n",
        "  data = pd.read_csv(filename)\n",
        "  print(data.head)\n",
        "  return data"
      ],
      "execution_count": null,
      "outputs": []
    },
    {
      "cell_type": "code",
      "metadata": {
        "id": "xCvZDvJSIXc0",
        "outputId": "890de678-38b4-4055-e64e-66b921039416",
        "colab": {
          "base_uri": "https://localhost:8080/",
          "height": 266
        }
      },
      "source": [
        "data = load_dataset('IMDB Dataset.csv')"
      ],
      "execution_count": null,
      "outputs": [
        {
          "output_type": "stream",
          "text": [
            "<bound method NDFrame.head of                                                   review sentiment\n",
            "0      One of the other reviewers has mentioned that ...  positive\n",
            "1      A wonderful little production. <br /><br />The...  positive\n",
            "2      I thought this was a wonderful way to spend ti...  positive\n",
            "3      Basically there's a family where a little boy ...  negative\n",
            "4      Petter Mattei's \"Love in the Time of Money\" is...  positive\n",
            "...                                                  ...       ...\n",
            "49995  I thought this movie did a down right good job...  positive\n",
            "49996  Bad plot, bad dialogue, bad acting, idiotic di...  negative\n",
            "49997  I am a Catholic taught in parochial elementary...  negative\n",
            "49998  I'm going to have to disagree with the previou...  negative\n",
            "49999  No one expects the Star Trek movies to be high...  negative\n",
            "\n",
            "[50000 rows x 2 columns]>\n"
          ],
          "name": "stdout"
        }
      ]
    },
    {
      "cell_type": "code",
      "metadata": {
        "id": "rhsjBJKKbcXD"
      },
      "source": [
        "def clean_data(df):\n",
        "  english_stopwords = set(stopwords.words('english'))\n",
        "  reviews = df['review']\n",
        "  labels = df['sentiment']\n",
        "  reviews = reviews.replace({'<.*?>': ''}, regex = True)         \n",
        "  reviews = reviews.replace({'[^A-Za-z]': ' '}, regex = True)\n",
        "  #print(len(reviews[0]))\n",
        "  reviews = reviews.apply(lambda review : [w for w in review.split() if w not in english_stopwords])\n",
        "  #print(len(reviews[0]))\n",
        "  reviews = reviews.apply(lambda review: [w.lower() for w in review]) \n",
        "  #print(labels.head())\n",
        "  label_encoder = preprocessing.LabelEncoder()\n",
        "  labels = label_encoder.fit_transform(labels)\n",
        "\n",
        "  return reviews, labels  "
      ],
      "execution_count": null,
      "outputs": []
    },
    {
      "cell_type": "code",
      "metadata": {
        "id": "nH_X8pl3ItSw",
        "outputId": "cba54080-98c3-4c66-ec1f-5e100faa80dc",
        "colab": {
          "base_uri": "https://localhost:8080/",
          "height": 301
        }
      },
      "source": [
        "reviews, labels = clean_data(data)\n",
        "print('Reviews')\n",
        "print(reviews, '\\n')\n",
        "print('Sentiment')\n",
        "print(labels)\n"
      ],
      "execution_count": null,
      "outputs": [
        {
          "output_type": "stream",
          "text": [
            "Reviews\n",
            "0        [one, reviewers, mentioned, watching, oz, epis...\n",
            "1        [a, wonderful, little, production, the, filmin...\n",
            "2        [i, thought, wonderful, way, spend, time, hot,...\n",
            "3        [basically, family, little, boy, jake, thinks,...\n",
            "4        [petter, mattei, love, time, money, visually, ...\n",
            "                               ...                        \n",
            "49995    [i, thought, movie, right, good, job, it, crea...\n",
            "49996    [bad, plot, bad, dialogue, bad, acting, idioti...\n",
            "49997    [i, catholic, taught, parochial, elementary, s...\n",
            "49998    [i, going, disagree, previous, comment, side, ...\n",
            "49999    [no, one, expects, star, trek, movies, high, a...\n",
            "Name: review, Length: 50000, dtype: object \n",
            "\n",
            "Sentiment\n",
            "[1 1 1 ... 0 0 0]\n"
          ],
          "name": "stdout"
        }
      ]
    },
    {
      "cell_type": "code",
      "metadata": {
        "id": "4XN1UEuJhJAX"
      },
      "source": [
        "def split_dataset(reviews, labels):\n",
        "  reviews_train, reviews_test, labels_train, labels_test = train_test_split(reviews, labels, test_size = 0.2)\n",
        "  return reviews_train, reviews_test, labels_train, labels_test"
      ],
      "execution_count": null,
      "outputs": []
    },
    {
      "cell_type": "code",
      "metadata": {
        "id": "datJCsaWJV2-",
        "outputId": "68f71923-a745-469b-fdfc-fbb9f13753a1",
        "colab": {
          "base_uri": "https://localhost:8080/",
          "height": 568
        }
      },
      "source": [
        "reviews_train, reviews_test, labels_train, labels_test = split_dataset(reviews, labels)\n",
        "print('Train Set')\n",
        "print(reviews_train, '\\n')\n",
        "print(reviews_test, '\\n')\n",
        "print('Test Set')\n",
        "print(labels_train, '\\n')\n",
        "print(labels_test)"
      ],
      "execution_count": null,
      "outputs": [
        {
          "output_type": "stream",
          "text": [
            "Train Set\n",
            "6710     [i, found, darkness, dark, it, kind, cool, ide...\n",
            "48536    [the, ultimate, gritty, heist, film, elements,...\n",
            "15322    [like, great, many, twilight, zone, episodes, ...\n",
            "1667     [in, lot, ways, film, defines, essence, everyt...\n",
            "5510     [i, saw, film, title, tied, up, in, general, i...\n",
            "                               ...                        \n",
            "46396    [i, know, margaret, atwood, thinking, allow, m...\n",
            "43149    [effect, without, cause, generally, possible, ...\n",
            "5736     [whenever, people, ask, name, scariest, movie,...\n",
            "6045     [this, show, pretty, good, stories, bad, dialo...\n",
            "35890    [the, grudge, remake, shimizu, series, popular...\n",
            "Name: review, Length: 40000, dtype: object \n",
            "\n",
            "26236    [working, night, shift, seedy, police, station...\n",
            "38361    [endless, repetition, evil, world, bank, imf, ...\n",
            "3224     [i, found, tremors, the, legend, begins, dull,...\n",
            "25118    [i, saw, shiner, dvd, while, i, watching, i, t...\n",
            "46708    [a, pretty, obvious, thriller, numbers, possib...\n",
            "                               ...                        \n",
            "14250    [great, show, about, time, reality, tv, show, ...\n",
            "7103     [here, example, film, well, received, made, wh...\n",
            "45252    [i, looking, forward, movie, everyone, talking...\n",
            "34004    [how, movie, escaped, wrath, mst, k, i, never,...\n",
            "17280    [well, i, must, say, i, initially, found, shor...\n",
            "Name: review, Length: 10000, dtype: object \n",
            "\n",
            "Test Set\n",
            "[0 1 1 ... 1 0 1] \n",
            "\n",
            "[1 0 0 ... 0 0 0]\n"
          ],
          "name": "stdout"
        }
      ]
    },
    {
      "cell_type": "code",
      "metadata": {
        "id": "EeYch-kjifDE"
      },
      "source": [
        "def get_max_length(reviews):\n",
        "  review_length = []\n",
        "  for review in reviews:\n",
        "    review_length.append(len(review))\n",
        "  return int(np.ceil(np.mean(review_length)))"
      ],
      "execution_count": null,
      "outputs": []
    },
    {
      "cell_type": "code",
      "metadata": {
        "id": "GCdx1ZWFJs-U",
        "outputId": "e62d897e-8bfe-45f5-a64a-9eb1c450d994",
        "colab": {
          "base_uri": "https://localhost:8080/",
          "height": 35
        }
      },
      "source": [
        "max_len = get_max_length(reviews)\n",
        "print(max_len)"
      ],
      "execution_count": null,
      "outputs": [
        {
          "output_type": "stream",
          "text": [
            "130\n"
          ],
          "name": "stdout"
        }
      ]
    },
    {
      "cell_type": "code",
      "metadata": {
        "id": "VRjcTcvLjDIO"
      },
      "source": [
        "def tokenize_pad_trunc(train_reviews, test_reviews):\n",
        "  tokenizer = Tokenizer(lower= False)\n",
        "  tokenizer.fit_on_texts(train_reviews)\n",
        "  print(type(train_reviews))\n",
        "  train_reviews = tokenizer.texts_to_sequences(train_reviews)\n",
        "  test_reviews = tokenizer.texts_to_sequences(test_reviews)\n",
        "  train_reviews = pad_sequences(train_reviews, maxlen=max_len, padding= pad_type,truncating= trunc_type)\n",
        "  test_reviews = pad_sequences(test_reviews, maxlen=max_len, padding= pad_type ,truncating= trunc_type)\n",
        "  total_words = int(len(tokenizer.word_index) + 1)\n",
        "\n",
        "  print('Encoded X Train\\n', train_reviews, '\\n')\n",
        "  print('Encoded X Test\\n', test_reviews, '\\n')\n",
        "  print('Maximum review length: ', max_len)\n",
        "  #print(reviews[0])\n",
        "  return train_reviews, test_reviews, total_words"
      ],
      "execution_count": null,
      "outputs": []
    },
    {
      "cell_type": "code",
      "metadata": {
        "id": "dR0UNaxVJ0JC",
        "outputId": "1da456b1-adf7-44b3-ec26-3bcccc0bdd56",
        "colab": {
          "base_uri": "https://localhost:8080/",
          "height": 372
        }
      },
      "source": [
        "reviews_train, reviews_test, total_words = tokenize_pad_trunc(reviews_train, reviews_test)"
      ],
      "execution_count": null,
      "outputs": [
        {
          "output_type": "stream",
          "text": [
            "<class 'pandas.core.series.Series'>\n",
            "Encoded X Train\n",
            " [[    1   162  2217 ...     0     0     0]\n",
            " [    2  1963  2410 ...     0     0     0]\n",
            " [    6    21    38 ...  1957 10762  5534]\n",
            " ...\n",
            " [ 1914    20   883 ...     0     0     0]\n",
            " [    8    47    90 ...     0     0     0]\n",
            " [    2  4678   914 ...     0     0     0]] \n",
            "\n",
            "Encoded X Test\n",
            " [[  663   220  6011 ...  4788   576  4758]\n",
            " [ 2181 10721   377 ...     0     0     0]\n",
            " [    1   162 13370 ...     0     0     0]\n",
            " ...\n",
            " [    1   164   845 ...     0     0     0]\n",
            " [  409     3  3548 ...   486  2101  4724]\n",
            " [   16     1   112 ...     0     0     0]] \n",
            "\n",
            "Maximum review length:  130\n"
          ],
          "name": "stdout"
        }
      ]
    },
    {
      "cell_type": "code",
      "metadata": {
        "id": "0ZBMPf7ho_yi"
      },
      "source": [
        "def sentiment_classification_model(total_words, max_len):\n",
        "  model = tf.keras.Sequential([\n",
        "      tf.keras.layers.Embedding(total_words, embedd_dim, input_length= max_len),\n",
        "      tf.keras.layers.LSTM(lstm_out),\n",
        "      tf.keras.layers.Dense(1, activation='sigmoid')])\n",
        "  model.compile(optimizer = 'adam', loss = 'binary_crossentropy', metrics = ['accuracy'])\n",
        "  '''\n",
        "  '''\n",
        "  print(model.summary())\n",
        "  return model\n"
      ],
      "execution_count": null,
      "outputs": []
    },
    {
      "cell_type": "code",
      "metadata": {
        "id": "gPebtSGNLkx7",
        "outputId": "40e1928e-fbae-42f4-de10-d03095f8ae11",
        "colab": {
          "base_uri": "https://localhost:8080/",
          "height": 284
        }
      },
      "source": [
        "model = sentiment_classification_model(total_words, max_len)"
      ],
      "execution_count": null,
      "outputs": [
        {
          "output_type": "stream",
          "text": [
            "Model: \"sequential\"\n",
            "_________________________________________________________________\n",
            "Layer (type)                 Output Shape              Param #   \n",
            "=================================================================\n",
            "embedding (Embedding)        (None, 130, 32)           2948800   \n",
            "_________________________________________________________________\n",
            "lstm (LSTM)                  (None, 64)                24832     \n",
            "_________________________________________________________________\n",
            "dense (Dense)                (None, 1)                 65        \n",
            "=================================================================\n",
            "Total params: 2,973,697\n",
            "Trainable params: 2,973,697\n",
            "Non-trainable params: 0\n",
            "_________________________________________________________________\n",
            "None\n"
          ],
          "name": "stdout"
        }
      ]
    },
    {
      "cell_type": "code",
      "metadata": {
        "id": "-6cdoas2xux_"
      },
      "source": [
        "def checkpoint_model():\n",
        "  checkpoint = ModelCheckpoint(\n",
        "      'models/LSTM.h5',\n",
        "      monitor='accuracy',\n",
        "      save_best_only=True,\n",
        "      verbose=1\n",
        "  )\n",
        "  return checkpoint"
      ],
      "execution_count": null,
      "outputs": []
    },
    {
      "cell_type": "code",
      "metadata": {
        "id": "CLtrFBHtOKUB",
        "outputId": "25ad5784-9455-4025-938a-0d33e5d98201",
        "colab": {
          "base_uri": "https://localhost:8080/",
          "height": 372
        }
      },
      "source": [
        "history = model.fit(reviews_train, labels_train, validation_data = (reviews_test, labels_test), batch_size = 128, epochs = 5, callbacks=[checkpoint])"
      ],
      "execution_count": null,
      "outputs": [
        {
          "output_type": "stream",
          "text": [
            "Epoch 1/5\n",
            "313/313 [==============================] - ETA: 0s - loss: 0.4566 - accuracy: 0.7546\n",
            "Epoch 00001: accuracy improved from -inf to 0.75458, saving model to models/LSTM.h5\n",
            "313/313 [==============================] - 20s 63ms/step - loss: 0.4566 - accuracy: 0.7546 - val_loss: 0.3408 - val_accuracy: 0.8688\n",
            "Epoch 2/5\n",
            "313/313 [==============================] - ETA: 0s - loss: 0.2075 - accuracy: 0.9270\n",
            "Epoch 00002: accuracy improved from 0.75458 to 0.92700, saving model to models/LSTM.h5\n",
            "313/313 [==============================] - 19s 60ms/step - loss: 0.2075 - accuracy: 0.9270 - val_loss: 0.3289 - val_accuracy: 0.8784\n",
            "Epoch 3/5\n",
            "313/313 [==============================] - ETA: 0s - loss: 0.1166 - accuracy: 0.9617\n",
            "Epoch 00003: accuracy improved from 0.92700 to 0.96170, saving model to models/LSTM.h5\n",
            "313/313 [==============================] - 19s 60ms/step - loss: 0.1166 - accuracy: 0.9617 - val_loss: 0.3973 - val_accuracy: 0.8721\n",
            "Epoch 4/5\n",
            "312/313 [============================>.] - ETA: 0s - loss: 0.0699 - accuracy: 0.9802\n",
            "Epoch 00004: accuracy improved from 0.96170 to 0.98010, saving model to models/LSTM.h5\n",
            "313/313 [==============================] - 19s 59ms/step - loss: 0.0700 - accuracy: 0.9801 - val_loss: 0.4112 - val_accuracy: 0.8683\n",
            "Epoch 5/5\n",
            "313/313 [==============================] - ETA: 0s - loss: 0.0498 - accuracy: 0.9868\n",
            "Epoch 00005: accuracy improved from 0.98010 to 0.98677, saving model to models/LSTM.h5\n",
            "313/313 [==============================] - 19s 60ms/step - loss: 0.0498 - accuracy: 0.9868 - val_loss: 0.5083 - val_accuracy: 0.8639\n"
          ],
          "name": "stdout"
        }
      ]
    },
    {
      "cell_type": "code",
      "metadata": {
        "id": "UllRCD8IR3MI"
      },
      "source": [
        "def plot_training(history):\n",
        "  %matplotlib inline\n",
        "  import matplotlib.pyplot as plt\n",
        "  acc = history.history['accuracy']\n",
        "  val_acc = history.history['val_accuracy']\n",
        "  loss = history.history['loss']\n",
        "  val_loss = history.history['val_loss']\n",
        "\n",
        "  epochs = range(len(acc))\n",
        "\n",
        "  plt.plot(epochs, acc, 'r', label='Training accuracy')\n",
        "  plt.plot(epochs, val_acc, 'b', label='Validation accuracy')\n",
        "  plt.title('Training and validation accuracy')\n",
        "  plt.legend()\n",
        "  plt.figure()\n",
        "\n",
        "  plt.plot(epochs, loss, 'r', label='Training Loss')\n",
        "  plt.plot(epochs, val_loss, 'b', label='Validation Loss')\n",
        "  plt.title('Training and validation loss')\n",
        "  plt.legend()\n",
        "\n",
        "  plt.show()"
      ],
      "execution_count": null,
      "outputs": []
    },
    {
      "cell_type": "code",
      "metadata": {
        "id": "kBLDdLfDb8Fs",
        "outputId": "0d8ff276-21fc-4564-be86-f2b92f5695e7",
        "colab": {
          "base_uri": "https://localhost:8080/",
          "height": 1000
        }
      },
      "source": [
        "data = load_dataset('IMDB Dataset.csv')\n",
        "reviews, labels = clean_data(data)\n",
        "reviews_train, reviews_test, labels_train, labels_test = split_dataset(reviews, labels)\n",
        "max_len = get_max_length(reviews)\n",
        "print(max_len)\n",
        "print(type(reviews_train))\n",
        "reviews_train, reviews_test, total_words = tokenize_pad_trunc(reviews_train, reviews_test)\n",
        "print(total_words)\n",
        "model = sentiment_classification_model(total_words, max_len)\n",
        "checkpoint = checkpoint_model()\n",
        "history = history = model.fit(reviews_train, labels_train, validation_data = (reviews_test, labels_test), batch_size = 128, epochs = 5, callbacks=[checkpoint])\n",
        "plot_training(history)\n"
      ],
      "execution_count": null,
      "outputs": [
        {
          "output_type": "stream",
          "text": [
            "<bound method NDFrame.head of                                                   review sentiment\n",
            "0      One of the other reviewers has mentioned that ...  positive\n",
            "1      A wonderful little production. <br /><br />The...  positive\n",
            "2      I thought this was a wonderful way to spend ti...  positive\n",
            "3      Basically there's a family where a little boy ...  negative\n",
            "4      Petter Mattei's \"Love in the Time of Money\" is...  positive\n",
            "...                                                  ...       ...\n",
            "49995  I thought this movie did a down right good job...  positive\n",
            "49996  Bad plot, bad dialogue, bad acting, idiotic di...  negative\n",
            "49997  I am a Catholic taught in parochial elementary...  negative\n",
            "49998  I'm going to have to disagree with the previou...  negative\n",
            "49999  No one expects the Star Trek movies to be high...  negative\n",
            "\n",
            "[50000 rows x 2 columns]>\n",
            "130\n",
            "<class 'pandas.core.series.Series'>\n",
            "<class 'pandas.core.series.Series'>\n",
            "Encoded X Train\n",
            " [[  216   224     1 ...   241   182  2493]\n",
            " [    2   176   711 ...     0     0     0]\n",
            " [    1    99   232 ...  2215   485     1]\n",
            " ...\n",
            " [24191   127     4 ...    64     2  2497]\n",
            " [    2  3852  4822 ...     0     0     0]\n",
            " [    1  1706     3 ...     0     0     0]] \n",
            "\n",
            "Encoded X Test\n",
            " [[    1   100     3 ...     1  4984   104]\n",
            " [ 1684   600    28 ...   749   130    65]\n",
            " [   50   238  1846 ...     0     0     0]\n",
            " ...\n",
            " [  106  5095    28 ...     0     0     0]\n",
            " [    1    12   141 ...  1112 13954   954]\n",
            " [  694  1714     3 ...     0     0     0]] \n",
            "\n",
            "Maximum review length:  130\n",
            "92325\n",
            "Model: \"sequential\"\n",
            "_________________________________________________________________\n",
            "Layer (type)                 Output Shape              Param #   \n",
            "=================================================================\n",
            "embedding (Embedding)        (None, 130, 32)           2954400   \n",
            "_________________________________________________________________\n",
            "lstm (LSTM)                  (None, 64)                24832     \n",
            "_________________________________________________________________\n",
            "dense (Dense)                (None, 1)                 65        \n",
            "=================================================================\n",
            "Total params: 2,979,297\n",
            "Trainable params: 2,979,297\n",
            "Non-trainable params: 0\n",
            "_________________________________________________________________\n",
            "None\n",
            "Epoch 1/5\n",
            "313/313 [==============================] - ETA: 0s - loss: 0.4755 - accuracy: 0.7472\n",
            "Epoch 00001: accuracy improved from -inf to 0.74720, saving model to models/LSTM.h5\n",
            "313/313 [==============================] - 19s 62ms/step - loss: 0.4755 - accuracy: 0.7472 - val_loss: 0.3120 - val_accuracy: 0.8779\n",
            "Epoch 2/5\n",
            "313/313 [==============================] - ETA: 0s - loss: 0.2133 - accuracy: 0.9236\n",
            "Epoch 00002: accuracy improved from 0.74720 to 0.92355, saving model to models/LSTM.h5\n",
            "313/313 [==============================] - 18s 59ms/step - loss: 0.2133 - accuracy: 0.9236 - val_loss: 0.3037 - val_accuracy: 0.8861\n",
            "Epoch 3/5\n",
            "313/313 [==============================] - ETA: 0s - loss: 0.1188 - accuracy: 0.9624\n",
            "Epoch 00003: accuracy improved from 0.92355 to 0.96237, saving model to models/LSTM.h5\n",
            "313/313 [==============================] - 18s 59ms/step - loss: 0.1188 - accuracy: 0.9624 - val_loss: 0.3255 - val_accuracy: 0.8757\n",
            "Epoch 4/5\n",
            "313/313 [==============================] - ETA: 0s - loss: 0.0710 - accuracy: 0.9789\n",
            "Epoch 00004: accuracy improved from 0.96237 to 0.97887, saving model to models/LSTM.h5\n",
            "313/313 [==============================] - 19s 61ms/step - loss: 0.0710 - accuracy: 0.9789 - val_loss: 0.3720 - val_accuracy: 0.8668\n",
            "Epoch 5/5\n",
            "313/313 [==============================] - ETA: 0s - loss: 0.0524 - accuracy: 0.9863\n",
            "Epoch 00005: accuracy improved from 0.97887 to 0.98635, saving model to models/LSTM.h5\n",
            "313/313 [==============================] - 19s 61ms/step - loss: 0.0524 - accuracy: 0.9863 - val_loss: 0.4275 - val_accuracy: 0.8721\n"
          ],
          "name": "stdout"
        },
        {
          "output_type": "display_data",
          "data": {
            "image/png": "[encoded data removed]",
            "text/plain": [
              "<Figure size 432x288 with 1 Axes>"
            ]
          },
          "metadata": {
            "tags": [],
            "needs_background": "light"
          }
        },
        {
          "output_type": "display_data",
          "data": {
            "image/png": "[encoded data removed]",
            "text/plain": [
              "<Figure size 432x288 with 1 Axes>"
            ]
          },
          "metadata": {
            "tags": [],
            "needs_background": "light"
          }
        }
      ]
    },
    {
      "cell_type": "code",
      "metadata": {
        "id": "MNiKbG52Mm4g",
        "outputId": "2e3b53d6-452d-441e-d3da-a50b435ef391",
        "colab": {
          "base_uri": "https://localhost:8080/",
          "height": 208
        }
      },
      "source": [
        "model.fit(reviews_train, labels_train, batch_size = 128, epochs = 5)"
      ],
      "execution_count": null,
      "outputs": [
        {
          "output_type": "stream",
          "text": [
            "Epoch 1/5\n",
            "313/313 [==============================] - 11s 36ms/step - loss: 0.3113 - accuracy: 0.8673\n",
            "Epoch 2/5\n",
            "313/313 [==============================] - 11s 35ms/step - loss: 0.3055 - accuracy: 0.8680\n",
            "Epoch 3/5\n",
            "313/313 [==============================] - 11s 35ms/step - loss: 0.3016 - accuracy: 0.8709\n",
            "Epoch 4/5\n",
            "313/313 [==============================] - 11s 35ms/step - loss: 0.2950 - accuracy: 0.8739\n",
            "Epoch 5/5\n",
            "313/313 [==============================] - 11s 35ms/step - loss: 0.2886 - accuracy: 0.8763\n"
          ],
          "name": "stdout"
        },
        {
          "output_type": "execute_result",
          "data": {
            "text/plain": [
              "<tensorflow.python.keras.callbacks.History at 0x7f99456fe630>"
            ]
          },
          "metadata": {
            "tags": []
          },
          "execution_count": 90
        }
      ]
    },
    {
      "cell_type": "code",
      "metadata": {
        "id": "zIeqeUHUL7hJ",
        "outputId": "f52fbc87-27cd-4698-d6fe-29c8bebced99",
        "colab": {
          "base_uri": "https://localhost:8080/",
          "height": 381
        }
      },
      "source": [
        "model.fit(reviews_train, labels_train, batch_size = 128, epochs = 5, callbacks=[checkpoint])"
      ],
      "execution_count": null,
      "outputs": [
        {
          "output_type": "stream",
          "text": [
            "Epoch 1/5\n",
            "313/313 [==============================] - ETA: 0s - loss: 0.5413 - accuracy: 0.6901\n",
            "Epoch 00001: accuracy improved from -inf to 0.69007, saving model to models/LSTM.h5\n",
            "313/313 [==============================] - 11s 36ms/step - loss: 0.5413 - accuracy: 0.6901\n",
            "Epoch 2/5\n",
            "313/313 [==============================] - ETA: 0s - loss: 0.2487 - accuracy: 0.9086\n",
            "Epoch 00002: accuracy improved from 0.69007 to 0.90865, saving model to models/LSTM.h5\n",
            "313/313 [==============================] - 11s 36ms/step - loss: 0.2487 - accuracy: 0.9086\n",
            "Epoch 3/5\n",
            "312/313 [============================>.] - ETA: 0s - loss: 0.1439 - accuracy: 0.9544\n",
            "Epoch 00003: accuracy improved from 0.90865 to 0.95440, saving model to models/LSTM.h5\n",
            "313/313 [==============================] - 11s 36ms/step - loss: 0.1439 - accuracy: 0.9544\n",
            "Epoch 4/5\n",
            "313/313 [==============================] - ETA: 0s - loss: 0.0880 - accuracy: 0.9754\n",
            "Epoch 00004: accuracy improved from 0.95440 to 0.97545, saving model to models/LSTM.h5\n",
            "313/313 [==============================] - 11s 35ms/step - loss: 0.0880 - accuracy: 0.9754\n",
            "Epoch 5/5\n",
            "313/313 [==============================] - ETA: 0s - loss: 0.0607 - accuracy: 0.9835\n",
            "Epoch 00005: accuracy improved from 0.97545 to 0.98348, saving model to models/LSTM.h5\n",
            "313/313 [==============================] - 11s 36ms/step - loss: 0.0607 - accuracy: 0.9835\n"
          ],
          "name": "stdout"
        },
        {
          "output_type": "execute_result",
          "data": {
            "text/plain": [
              "<tensorflow.python.keras.callbacks.History at 0x7f9a0ad5a6a0>"
            ]
          },
          "metadata": {
            "tags": []
          },
          "execution_count": 66
        }
      ]
    },
    {
      "cell_type": "code",
      "metadata": {
        "id": "S0Bo_AaLfRXP",
        "outputId": "8b1a8f23-c77f-4b0b-bd5a-c20e1bab0992",
        "colab": {
          "base_uri": "https://localhost:8080/",
          "height": 936
        }
      },
      "source": [
        "data = load_dataset('IMDB Dataset.csv')\n",
        "reviews, labels = clean_data(data)\n",
        "reviews_train, reviews_test, labels_train, labels_test = split_dataset(reviews, labels)\n",
        "max_len = get_max_length(reviews)\n",
        "print(max_len)\n",
        "print(type(reviews_train))\n",
        "reviews_train, reviews_test, total_words = tokenize_pad_trunc(reviews_train, reviews_test)\n",
        "print(total_words)\n",
        "model = sentiment_classification_model(total_words, max_len)\n",
        "\n",
        "history = model.fit(reviews_train, labels_train, validation_data = (reviews_test, labels_test), batch_size = 128, epochs = 5, callbacks=[checkpoint])"
      ],
      "execution_count": null,
      "outputs": [
        {
          "output_type": "stream",
          "text": [
            "<bound method NDFrame.head of                                                   review sentiment\n",
            "0      One of the other reviewers has mentioned that ...  positive\n",
            "1      A wonderful little production. <br /><br />The...  positive\n",
            "2      I thought this was a wonderful way to spend ti...  positive\n",
            "3      Basically there's a family where a little boy ...  negative\n",
            "4      Petter Mattei's \"Love in the Time of Money\" is...  positive\n",
            "...                                                  ...       ...\n",
            "49995  I thought this movie did a down right good job...  positive\n",
            "49996  Bad plot, bad dialogue, bad acting, idiotic di...  negative\n",
            "49997  I am a Catholic taught in parochial elementary...  negative\n",
            "49998  I'm going to have to disagree with the previou...  negative\n",
            "49999  No one expects the Star Trek movies to be high...  negative\n",
            "\n",
            "[50000 rows x 2 columns]>\n",
            "1725\n",
            "176\n",
            "130\n",
            "<class 'pandas.core.series.Series'>\n",
            "Encoded X Train\n",
            " [[  1 199   3 ...   0   0   0]\n",
            " [  8   3   1 ...   0   0   0]\n",
            " [142 198 683 ...   0   0   0]\n",
            " ...\n",
            " [ 50 338 211 ... 449 140 280]\n",
            " [  1 117 107 ...   0   0   0]\n",
            " [308 792  37 ... 228   2   2]] \n",
            "\n",
            "Encoded X Test\n",
            " [[330   1 347 ...   0   0   0]\n",
            " [  8   9  41 ...   0   0   0]\n",
            " [ 49   5   9 ...   0   0   0]\n",
            " ...\n",
            " [171   1 683 ...   0   0   0]\n",
            " [331  15  47 ...  41 851  61]\n",
            " [  1 168   4 ...   0   0   0]] \n",
            "\n",
            "Maximum review length:  130\n",
            "92542\n",
            "Model: \"sequential_3\"\n",
            "_________________________________________________________________\n",
            "Layer (type)                 Output Shape              Param #   \n",
            "=================================================================\n",
            "embedding_3 (Embedding)      (None, 130, 32)           2961344   \n",
            "_________________________________________________________________\n",
            "lstm_3 (LSTM)                (None, 64)                24832     \n",
            "_________________________________________________________________\n",
            "dense_3 (Dense)              (None, 1)                 65        \n",
            "=================================================================\n",
            "Total params: 2,986,241\n",
            "Trainable params: 2,986,241\n",
            "Non-trainable params: 0\n",
            "_________________________________________________________________\n",
            "None\n"
          ],
          "name": "stdout"
        }
      ]
    },
    {
      "cell_type": "code",
      "metadata": {
        "id": "ML30dNMdwCio",
        "outputId": "459925d5-ad57-4f14-b198-019945789e98",
        "colab": {
          "base_uri": "https://localhost:8080/",
          "height": 166
        }
      },
      "source": [
        "model.summary()"
      ],
      "execution_count": null,
      "outputs": [
        {
          "output_type": "error",
          "ename": "NameError",
          "evalue": "ignored",
          "traceback": [
            "\u001b[0;31m---------------------------------------------------------------------------\u001b[0m",
            "\u001b[0;31mNameError\u001b[0m                                 Traceback (most recent call last)",
            "\u001b[0;32m<ipython-input-58-5f15418b3570>\u001b[0m in \u001b[0;36m<module>\u001b[0;34m()\u001b[0m\n\u001b[0;32m----> 1\u001b[0;31m \u001b[0mmodel\u001b[0m\u001b[0;34m.\u001b[0m\u001b[0msummary\u001b[0m\u001b[0;34m(\u001b[0m\u001b[0;34m)\u001b[0m\u001b[0;34m\u001b[0m\u001b[0;34m\u001b[0m\u001b[0m\n\u001b[0m",
            "\u001b[0;31mNameError\u001b[0m: name 'model' is not defined"
          ]
        }
      ]
    },
    {
      "cell_type": "code",
      "metadata": {
        "id": "yCOHv3J_70xS",
        "outputId": "8fa7ef19-3c14-4163-aa4d-e70ca57abcba",
        "colab": {
          "base_uri": "https://localhost:8080/",
          "height": 381
        }
      },
      "source": [
        "model.fit(reviews_train, labels_train, batch_size= batch_size, epochs=epochs)"
      ],
      "execution_count": null,
      "outputs": [
        {
          "output_type": "stream",
          "text": [
            "Epoch 1/10\n",
            "313/313 [==============================] - 57s 183ms/step - loss: 0.6844 - accuracy: 0.5352\n",
            "Epoch 2/10\n",
            "313/313 [==============================] - 58s 185ms/step - loss: 0.6691 - accuracy: 0.5603\n",
            "Epoch 3/10\n",
            "313/313 [==============================] - 58s 187ms/step - loss: 0.6856 - accuracy: 0.5337\n",
            "Epoch 4/10\n",
            "313/313 [==============================] - 57s 184ms/step - loss: 0.6873 - accuracy: 0.5277\n",
            "Epoch 5/10\n",
            "313/313 [==============================] - 62s 198ms/step - loss: 0.6836 - accuracy: 0.5411\n",
            "Epoch 6/10\n",
            "313/313 [==============================] - 59s 189ms/step - loss: 0.5980 - accuracy: 0.6709\n",
            "Epoch 7/10\n",
            "313/313 [==============================] - 60s 191ms/step - loss: 0.5178 - accuracy: 0.7666\n",
            "Epoch 8/10\n",
            "313/313 [==============================] - 59s 188ms/step - loss: 0.5714 - accuracy: 0.7391\n",
            "Epoch 9/10\n",
            "313/313 [==============================] - 58s 187ms/step - loss: 0.6102 - accuracy: 0.6733\n",
            "Epoch 10/10\n",
            "313/313 [==============================] - 60s 191ms/step - loss: 0.5971 - accuracy: 0.6870\n"
          ],
          "name": "stdout"
        },
        {
          "output_type": "execute_result",
          "data": {
            "text/plain": [
              "<tensorflow.python.keras.callbacks.History at 0x7fce0fb6b780>"
            ]
          },
          "metadata": {
            "tags": []
          },
          "execution_count": 109
        }
      ]
    },
    {
      "cell_type": "code",
      "metadata": {
        "id": "8ln979ql8IS1",
        "outputId": "3d4fef45-5848-4196-e7f3-2a699c3c367f",
        "colab": {
          "base_uri": "https://localhost:8080/",
          "height": 52
        }
      },
      "source": [
        "scores = model.evaluate(reviews_test, labels_test, verbose = 1)\n",
        "print(scores[1])"
      ],
      "execution_count": null,
      "outputs": [
        {
          "output_type": "stream",
          "text": [
            "313/313 [==============================] - 1s 4ms/step - loss: 0.4954 - accuracy: 0.8653\n",
            "0.8652999997138977\n"
          ],
          "name": "stdout"
        }
      ]
    }
  ]
}